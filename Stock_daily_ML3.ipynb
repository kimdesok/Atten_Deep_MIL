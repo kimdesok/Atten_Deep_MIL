{
  "nbformat": 4,
  "nbformat_minor": 0,
  "metadata": {
    "colab": {
      "name": "Stock-daily-ML3.ipynb",
      "provenance": [],
      "collapsed_sections": [],
      "mount_file_id": "1g18n3jiQxgmumyyh8n07XscdU8VIjflJ",
      "authorship_tag": "ABX9TyMHFnZvYKaDw8G1BQnnqpDr",
      "include_colab_link": true
    },
    "kernelspec": {
      "name": "python3",
      "display_name": "Python 3"
    },
    "language_info": {
      "name": "python"
    }
  },
  "cells": [
    {
      "cell_type": "markdown",
      "metadata": {
        "id": "view-in-github",
        "colab_type": "text"
      },
      "source": [
        "<a href=\"https://colab.research.google.com/github/kimdesok/Atten_Deep_MIL/blob/master/Stock_daily_ML3.ipynb\" target=\"_parent\"><img src=\"https://colab.research.google.com/assets/colab-badge.svg\" alt=\"Open In Colab\"/></a>"
      ]
    },
    {
      "cell_type": "markdown",
      "metadata": {
        "id": "1D1pCOi-M89H"
      },
      "source": [
        "##1. Setting libraries and environment\n",
        "> * Korean fonts installed\n",
        "> * importing libraries for data manipulation, graphics, trend indicator calculation, etc\n",
        "> * Downloading stock data and preparing them for the further processing\n",
        "> * Downloading utility scripts"
      ]
    },
    {
      "cell_type": "code",
      "metadata": {
        "id": "84xPUVdyLTz-"
      },
      "source": [
        "#Korean fonts installation\n",
        "# Rerun runtime\n",
        "!sudo apt-get install -y fonts-nanum\n",
        "!sudo fc-cache -fv\n",
        "!rm ~/.cache/matplotlib -rf\n",
        "\n",
        "#한글 폰트 지정\n",
        "plt.rc('font', family='NanumBarunGothic') "
      ],
      "execution_count": null,
      "outputs": []
    },
    {
      "cell_type": "code",
      "metadata": {
        "id": "GzjxpvBsZL-P",
        "colab": {
          "base_uri": "https://localhost:8080/",
          "height": 51
        },
        "outputId": "85879a3c-1248-4a7e-c704-f16113ba8c50"
      },
      "source": [
        "import urllib\n",
        "import time\n",
        "import matplotlib.pyplot as plt\n",
        "import pandas as pd\n",
        "import numpy as np\n",
        " \n",
        "from urllib.request import urlopen\n",
        "import seaborn as sns\n",
        "# Plot a large graph\n",
        "plt.figure(figsize = (16,12))"
      ],
      "execution_count": 1,
      "outputs": [
        {
          "output_type": "execute_result",
          "data": {
            "text/plain": [
              "<Figure size 1152x864 with 0 Axes>"
            ]
          },
          "metadata": {
            "tags": []
          },
          "execution_count": 1
        },
        {
          "output_type": "display_data",
          "data": {
            "text/plain": [
              "<Figure size 1152x864 with 0 Axes>"
            ]
          },
          "metadata": {
            "tags": []
          }
        }
      ]
    },
    {
      "cell_type": "code",
      "metadata": {
        "id": "sh2dcTukTzzB"
      },
      "source": [
        "#Ta-Lib library installation for calculating trend indicators\n",
        "\n",
        "!wget http://prdownloads.sourceforge.net/ta-lib/ta-lib-0.4.0-src.tar.gz\n",
        "!tar -xzvf ta-lib-0.4.0-src.tar.gz\n",
        "%cd ta-lib\n",
        "!./configure --prefix=/usr\n",
        "!make\n",
        "!make install\n",
        "\n",
        "# try below first\n",
        "!pip install Ta-Lib\n",
        "import talib"
      ],
      "execution_count": null,
      "outputs": []
    },
    {
      "cell_type": "code",
      "metadata": {
        "id": "ILYQCneHewLp"
      },
      "source": [
        "#KOSPI code + stock name\n",
        "stock_type = {\n",
        "    'kospi': 'stockMkt',\n",
        "    'kosdaq': 'kosdaqMkt'\n",
        "}\n",
        "\n",
        "def get_code(df, names):\n",
        "  codes = list()\n",
        "  for name in names:\n",
        "    code = df.query(\"name=='{}'\".format(name))['code'].to_string(index=False)\n",
        "    code = code.strip()\n",
        "    codes.append(code)\n",
        "  return codes\n",
        "\n",
        "def get_download_stock(market_type=None):\n",
        "  market_type_param = stock_type[market_type]\n",
        "  download_link = 'http://kind.krx.co.kr/corpgeneral/corpList.do'\n",
        "  download_link = download_link + '?method=download'\n",
        "  download_link = download_link + '&marketType=' + market_type_param\n",
        "\n",
        "  df = pd.read_html(download_link, header=0)[0]\n",
        "  return df;\n",
        "\n",
        "def get_download_kospi():\n",
        "  df = get_download_stock('kospi')\n",
        "  df.종목코드 = df.종목코드.map('{:06d}'.format)\n",
        "  return df\n",
        "\n",
        "def get_download_kosdaq():\n",
        "  df = get_download_stock('kosdaq')\n",
        "  df.종목코드 = df.종목코드.map('{:06d}'.format)\n",
        "  return df\n",
        "\n",
        "kospi_df = get_download_kospi()\n",
        "kosdaq_df = get_download_kosdaq()\n",
        "\n"
      ],
      "execution_count": 3,
      "outputs": []
    },
    {
      "cell_type": "code",
      "metadata": {
        "colab": {
          "base_uri": "https://localhost:8080/"
        },
        "id": "DSzEzLGofX9S",
        "outputId": "0cfa97b9-df3e-4a1d-852e-3023497de513"
      },
      "source": [
        "code_df = pd.concat([kospi_df, kosdaq_df])\n",
        "print(code_df.head())\n",
        "\n",
        "code_df = code_df[['회사명', '종목코드']]\n",
        "\n",
        "# data frame title 변경 '회사명' = name, 종목코드 = 'code'\n",
        "code_df = code_df.rename(columns={'회사명': 'name', '종목코드': 'code'})\n"
      ],
      "execution_count": 4,
      "outputs": [
        {
          "output_type": "stream",
          "text": [
            "         회사명    종목코드           업종  ...      대표자명                    홈페이지     지역\n",
            "0      DRB동일  004840     고무제품 제조업  ...       류영식     http://drbworld.com  부산광역시\n",
            "1        DSR  155660  1차 비철금속 제조업  ...       홍석빈      http://www.dsr.com  부산광역시\n",
            "2      GS글로벌  001250    상품 종합 도매업  ...       김태형  http://www.gsgcorp.com  서울특별시\n",
            "3  HDC현대산업개발  294870       건물 건설업  ...  권순호, 정경구  http://www.hdc-dvp.com  서울특별시\n",
            "4        KEC  092220      반도체 제조업  ...   박남규 김학남    http://www.kec.co.kr  서울특별시\n",
            "\n",
            "[5 rows x 9 columns]\n"
          ],
          "name": "stdout"
        }
      ]
    },
    {
      "cell_type": "code",
      "metadata": {
        "id": "eQkz1AT2PCa8",
        "colab": {
          "base_uri": "https://localhost:8080/"
        },
        "outputId": "0041c99e-a3a2-4980-b842-6a918dbeb095"
      },
      "source": [
        "!rm -r marcap\n",
        "!git clone \"https://github.com/FinanceData/marcap.git\" marcap"
      ],
      "execution_count": 5,
      "outputs": [
        {
          "output_type": "stream",
          "text": [
            "rm: cannot remove 'marcap': No such file or directory\n",
            "Cloning into 'marcap'...\n",
            "remote: Enumerating objects: 949, done.\u001b[K\n",
            "remote: Counting objects: 100% (72/72), done.\u001b[K\n",
            "remote: Compressing objects: 100% (24/24), done.\u001b[K\n",
            "remote: Total 949 (delta 51), reused 69 (delta 48), pack-reused 877\u001b[K\n",
            "Receiving objects: 100% (949/949), 2.09 GiB | 43.79 MiB/s, done.\n",
            "Resolving deltas: 100% (559/559), done.\n",
            "Checking out files: 100% (39/39), done.\n"
          ],
          "name": "stdout"
        }
      ]
    },
    {
      "cell_type": "code",
      "metadata": {
        "id": "G-GErZTAiTCo"
      },
      "source": [
        "#!ls -lh marcap/data \n",
        "!cp -r  marcap '/content/drive/MyDrive/marcap'"
      ],
      "execution_count": null,
      "outputs": []
    },
    {
      "cell_type": "code",
      "metadata": {
        "id": "5sHvNSPIVDQY"
      },
      "source": [
        "!cp -r '/content/drive/MyDrive/marcap'  marcap"
      ],
      "execution_count": null,
      "outputs": []
    },
    {
      "cell_type": "code",
      "metadata": {
        "id": "OjnRSGtmI_XQ"
      },
      "source": [
        "from marcap import marcap_data\n",
        "from datetime import date\n",
        "today = date.today()\n",
        "\n",
        "#Select dates\n",
        "start_date = '2018-01-01'\n",
        "stock_data = marcap_data(start_date, today)\n",
        "#print(stock_data[['Code', 'Name', 'Open', 'High', 'Low', 'Close', 'Volume']].tail(10))\n",
        "\n",
        "#For this exercise, we need two dataframes\n",
        "lng_df = stock_data[stock_data['Name'] == '피씨엘']\n",
        "spy_df = stock_data[stock_data['Name'] == '이아이디']\n",
        "\n",
        "print(lng_df[['Code', 'Name', 'Open', 'High', 'Low', 'Close', 'Volume']])\n",
        "print(spy_df[['Code', 'Name', 'Open', 'High', 'Low', 'Close', 'Volume']])\n",
        "\n",
        "print(lng_df.info())\n",
        "print(spy_df.info())"
      ],
      "execution_count": null,
      "outputs": []
    },
    {
      "cell_type": "markdown",
      "metadata": {
        "id": "8cZOLGfqRxKN"
      },
      "source": [
        ""
      ]
    },
    {
      "cell_type": "code",
      "metadata": {
        "id": "XIemA0PZNvO2",
        "colab": {
          "base_uri": "https://localhost:8080/"
        },
        "outputId": "ee19d847-ab23-475f-cf6d-3144c9da50b7"
      },
      "source": [
        "#Data transform using the close price\n",
        "lng_df = lng_df.pivot_table(index='Date', values=['Close', 'Volume'])\n",
        "lng_df.columns = ['Adj_Close', 'Adj_Volume']\n",
        "print(lng_df.tail())\n",
        "spy_df = spy_df.pivot_table(index='Date', values=['Close', 'Volume'])\n",
        "spy_df.columns = ['Adj_Close', 'Adj_Volume']\n",
        "print(spy_df.tail())"
      ],
      "execution_count": 19,
      "outputs": [
        {
          "output_type": "stream",
          "text": [
            "            Adj_Close  Adj_Volume\n",
            "Date                             \n",
            "2021-07-30      51700      351393\n",
            "2021-08-02      49100      112441\n",
            "2021-08-03      47900       96858\n",
            "2021-08-04      49900      190980\n",
            "2021-08-05      49900       40665\n",
            "            Adj_Close  Adj_Volume\n",
            "Date                             \n",
            "2021-07-30        530    20461810\n",
            "2021-08-02        538    23267012\n",
            "2021-08-03        516    24302227\n",
            "2021-08-04        527    49134545\n",
            "2021-08-05        527    15814884\n"
          ],
          "name": "stdout"
        }
      ]
    },
    {
      "cell_type": "markdown",
      "metadata": {
        "id": "EskThl8XMPN_"
      },
      "source": [
        "##2. Explorative Data Analysis \n",
        "> * Data produced previously utilized in this exercise\n",
        "> * Almost similar to Stock-daily-ML1.ipynb"
      ]
    },
    {
      "cell_type": "code",
      "metadata": {
        "id": "RzBcnBJJLGJv"
      },
      "source": [
        "# Create 5-day % changes of Adj_Close for the current day, and 5 days in the future\n",
        "lng_df['5d_future_close'] = lng_df['Adj_Close'].shift(-5)\n",
        "lng_df['5d_close_future_pct'] = lng_df['5d_future_close'].pct_change(5)\n",
        "lng_df['5d_close_pct'] = lng_df['Adj_Close'].pct_change(5)\n",
        "\n",
        "# Calculate the correlation matrix between the 5d close pecentage changes (current and future)\n",
        "corr = lng_df[['5d_close_pct', '5d_close_future_pct']].corr()\n",
        "print(corr)\n",
        "\n",
        "# Scatter the current 5-day percent change vs the future 5-day percent change\n",
        "plt.scatter(lng_df['5d_close_pct'], lng_df['5d_close_future_pct'])\n",
        "plt.show()"
      ],
      "execution_count": null,
      "outputs": []
    },
    {
      "cell_type": "code",
      "metadata": {
        "id": "C0QIqd1AWeQY"
      },
      "source": [
        ""
      ],
      "execution_count": null,
      "outputs": []
    },
    {
      "cell_type": "code",
      "metadata": {
        "colab": {
          "base_uri": "https://localhost:8080/"
        },
        "id": "TpcMvFZRLgPe",
        "outputId": "59293daf-bcc3-4ab0-b195-8082715eb402"
      },
      "source": [
        "feature_names = ['5d_close_pct']  # a list of the feature names for later\n",
        "\n",
        "# Create moving averages and rsi for timeperiods of 14, 30, 50, and 200\n",
        "for n in [14, 30, 50, 200]:\n",
        "  \n",
        "    #Ta-Lib methods do not like real data so transform them to double floats.\n",
        "    lng_df_float = np.array(lng_df['Adj_Close'].values, dtype='f8')\n",
        "    \n",
        "    # Create the moving average indicator and divide by Adj_Close\n",
        "    lng_df['ma' + str(n)] = talib.SMA(lng_df_float,\n",
        "                              timeperiod=n) / lng_df['Adj_Close']\n",
        "    # Create the RSI indicator\n",
        "    lng_df['rsi' + str(n)] = talib.RSI(lng_df_float, timeperiod=n)\n",
        "    \n",
        "    # Add rsi and moving average to the feature name list\n",
        "    feature_names = feature_names + ['ma' + str(n), 'rsi' + str(n)]\n",
        "\n",
        "print(feature_names)"
      ],
      "execution_count": 44,
      "outputs": [
        {
          "output_type": "stream",
          "text": [
            "['5d_close_pct', 'ma14', 'rsi14', 'ma30', 'rsi30', 'ma50', 'rsi50', 'ma200', 'rsi200']\n"
          ],
          "name": "stdout"
        }
      ]
    },
    {
      "cell_type": "code",
      "metadata": {
        "colab": {
          "base_uri": "https://localhost:8080/"
        },
        "id": "JmpmRYrPON1A",
        "outputId": "80c0a23d-ff35-4ab0-83b3-b86be5a89d4f"
      },
      "source": [
        "# Drop all na values\n",
        "lng_df = lng_df.dropna()\n",
        "\n",
        "# Create features and targets\n",
        "# use feature_names for features; '5d_close_future_pct' for targets\n",
        "features = lng_df[feature_names]\n",
        "targets = lng_df['5d_close_future_pct'].values\n",
        "\n",
        "# Create DataFrame from target column and feature columns\n",
        "feature_and_target_cols = ['5d_close_future_pct'] + feature_names\n",
        "feat_targ_df = lng_df[feature_and_target_cols]\n",
        "\n",
        "# Calculate correlation matrix\n",
        "corr = feat_targ_df.corr()\n",
        "print(corr)"
      ],
      "execution_count": 45,
      "outputs": [
        {
          "output_type": "stream",
          "text": [
            "                     5d_close_future_pct  5d_close_pct  ...     ma200    rsi200\n",
            "5d_close_future_pct             1.000000      0.029967  ...  0.108204 -0.112579\n",
            "5d_close_pct                    0.029967      1.000000  ... -0.292334  0.259195\n",
            "ma14                            0.012178     -0.840401  ...  0.342748 -0.310836\n",
            "rsi14                          -0.019215      0.643543  ... -0.513698  0.527232\n",
            "ma30                            0.049602     -0.649748  ...  0.485392 -0.436657\n",
            "rsi30                          -0.089027      0.549341  ... -0.684689  0.702060\n",
            "ma50                            0.090015     -0.525176  ...  0.618021 -0.542448\n",
            "rsi50                          -0.121748      0.484268  ... -0.812585  0.834788\n",
            "ma200                           0.108204     -0.292334  ...  1.000000 -0.939015\n",
            "rsi200                         -0.112579      0.259195  ... -0.939015  1.000000\n",
            "\n",
            "[10 rows x 10 columns]\n"
          ],
          "name": "stdout"
        }
      ]
    },
    {
      "cell_type": "code",
      "metadata": {
        "colab": {
          "base_uri": "https://localhost:8080/"
        },
        "id": "NgAWfLdQQTuH",
        "outputId": "d2ac4818-d5fd-4c81-bd0a-46cce22db18b"
      },
      "source": [
        "# Import the statsmodels.api library with the alias sm\n",
        "import statsmodels.api as sm\n",
        "\n",
        "# Add a constant to the features\n",
        "linear_features = sm.add_constant(features)\n",
        "\n",
        "# Create a size for the training set that is 85% of the total number of samples\n",
        "train_size = int(0.85 * linear_features.shape[0])\n",
        "train_features = linear_features[:train_size]\n",
        "train_targets = targets[:train_size]\n",
        "test_features = linear_features[train_size:]\n",
        "test_targets = targets[train_size:]\n",
        "print(linear_features.shape, train_features.shape, test_features.shape)"
      ],
      "execution_count": 46,
      "outputs": [
        {
          "output_type": "stream",
          "text": [
            "(472, 10) (401, 10) (71, 10)\n"
          ],
          "name": "stdout"
        }
      ]
    },
    {
      "cell_type": "code",
      "metadata": {
        "id": "fAUey8q9QX92"
      },
      "source": [
        "# Create the linear model and complete the least squares fit\n",
        "model = sm.OLS(train_targets, train_features)\n",
        "results = model.fit()  # fit the model\n",
        "print(results.summary())\n",
        "\n",
        "# examine pvalues\n",
        "# Features with p <= 0.05 are typically considered significantly different from 0\n",
        "print(results.pvalues)\n",
        "\n",
        "# Make predictions from our model for train and test sets\n",
        "train_predictions = results.predict(train_features)\n",
        "test_predictions = results.predict(test_features)"
      ],
      "execution_count": null,
      "outputs": []
    },
    {
      "cell_type": "code",
      "metadata": {
        "id": "13doEFwVQbUm"
      },
      "source": [
        "# Create 2 new volume features, 1-day % change and 5-day SMA of the % change\n",
        "new_features = ['Adj_Volume_1d_change', 'Adj_Volume_1d_change_SMA']\n",
        "feature_names.extend(new_features)\n",
        "lng_df['Adj_Volume_1d_change'] = lng_df['Adj_Volume'].pct_change()\n",
        "lng_df['Adj_Volume_1d_change_SMA'] = talib.SMA(lng_df['Adj_Volume_1d_change'].values, timeperiod=5)\n",
        "\n",
        "# Plot histogram of volume % change data\n",
        "lng_df[new_features].plot(kind='hist', sharex=False, bins=50)\n",
        "plt.show()"
      ],
      "execution_count": null,
      "outputs": []
    },
    {
      "cell_type": "code",
      "metadata": {
        "id": "ZvQYbkW1Ws1u"
      },
      "source": [
        ""
      ],
      "execution_count": null,
      "outputs": []
    },
    {
      "cell_type": "code",
      "metadata": {
        "colab": {
          "base_uri": "https://localhost:8080/"
        },
        "id": "kUkMrlFjNE-5",
        "outputId": "102b9896-5f77-4d1d-c96c-011e6be4426c"
      },
      "source": [
        "# Use pandas' get_dummies function to get dummies for day of the week\n",
        "days_of_week = pd.get_dummies(lng_df.index.dayofweek,\n",
        "                              prefix='weekday',\n",
        "                              drop_first=True)\n",
        "\n",
        "# Set the index as the original dataframe index for merging\n",
        "days_of_week.index = lng_df.index\n",
        "\n",
        "# Join the dataframe with the days of week dataframe\n",
        "lng_df = pd.concat([lng_df, days_of_week], axis=1)\n",
        "\n",
        "# Add days of week to feature names\n",
        "feature_names.extend(['weekday_' + str(i) for i in range(1, 6)])\n",
        "lng_df.dropna(inplace=True)  # drop missing values in-place\n",
        "print(lng_df.head())"
      ],
      "execution_count": 49,
      "outputs": [
        {
          "output_type": "stream",
          "text": [
            "            Adj_Close  Adj_Volume  ...  weekday_3  weekday_4\n",
            "Date                               ...                      \n",
            "2019-09-03       7620       30516  ...          0          0\n",
            "2019-09-04       7600        8608  ...          0          0\n",
            "2019-09-05       7520       13640  ...          1          0\n",
            "2019-09-06       7520        9418  ...          0          1\n",
            "2019-09-09       7490       10605  ...          0          0\n",
            "\n",
            "[5 rows x 23 columns]\n"
          ],
          "name": "stdout"
        }
      ]
    },
    {
      "cell_type": "code",
      "metadata": {
        "colab": {
          "base_uri": "https://localhost:8080/"
        },
        "id": "maSYXvMBQgvr",
        "outputId": "8cdca357-0159-407d-df4b-9596ab84d272"
      },
      "source": [
        "# Import the statsmodels.api library with the alias sm\n",
        "import statsmodels.api as sm\n",
        "\n",
        "# Add a constant to the features\n",
        "linear_features = sm.add_constant(features)\n",
        "\n",
        "# Create a size for the training set that is 85% of the total number of samples\n",
        "train_size = int(0.85 * linear_features.shape[0])\n",
        "train_features = linear_features[:train_size]\n",
        "train_targets = targets[:train_size]\n",
        "test_features = linear_features[train_size:]\n",
        "test_targets = targets[train_size:]\n",
        "print(linear_features.shape, train_features.shape, test_features.shape)"
      ],
      "execution_count": 50,
      "outputs": [
        {
          "output_type": "stream",
          "text": [
            "(472, 10) (401, 10) (71, 10)\n"
          ],
          "name": "stdout"
        }
      ]
    },
    {
      "cell_type": "code",
      "metadata": {
        "colab": {
          "base_uri": "https://localhost:8080/",
          "height": 297
        },
        "id": "xahFBGMWRTP9",
        "outputId": "1cd3763e-3862-4e34-81e1-45f30e106329"
      },
      "source": [
        "# Add the weekday labels to the new_features list\n",
        "new_features.extend(['weekday_' + str(i) for i in range(1, 5)])\n",
        "\n",
        "# Plot the correlations between the new features and the targets\n",
        "sns.heatmap(lng_df[new_features + ['5d_close_future_pct']].corr(), annot=True)\n",
        "plt.yticks(rotation=0)  # ensure y-axis ticklabels are horizontal\n",
        "plt.xticks(rotation=90)  # ensure x-axis ticklabels are vertical\n",
        "plt.tight_layout()\n",
        "plt.show()"
      ],
      "execution_count": 51,
      "outputs": [
        {
          "output_type": "display_data",
          "data": {
            "image/png": "[encoded data removed]",
            "text/plain": [
              "<Figure size 432x288 with 2 Axes>"
            ]
          },
          "metadata": {
            "tags": [],
            "needs_background": "light"
          }
        }
      ]
    },
    {
      "cell_type": "markdown",
      "metadata": {
        "id": "C8bHBwYgR1DF"
      },
      "source": [
        "##3. Machine Learning - Tree Methods\n",
        "> * Decision Trees\n",
        "> * Random Forests"
      ]
    },
    {
      "cell_type": "code",
      "metadata": {
        "colab": {
          "base_uri": "https://localhost:8080/"
        },
        "id": "isHUSsTiSA4T",
        "outputId": "7ea9c04e-1eac-4d76-d980-db45777488c8"
      },
      "source": [
        "from sklearn.tree import DecisionTreeRegressor\n",
        "\n",
        "# Create a decision tree regression model with default arguments\n",
        "decision_tree = DecisionTreeRegressor()\n",
        "\n",
        "# Fit the model to the training features and targets\n",
        "decision_tree.fit(train_features , train_targets)\n",
        "#print(train_features) \n",
        "#Too many features but little data. Remove irrelevant features by factor analysis or something\n",
        "# Check the score on train and test\n",
        "print(decision_tree.score(train_features, train_targets))\n",
        "print(decision_tree.score(test_features , test_targets))"
      ],
      "execution_count": 52,
      "outputs": [
        {
          "output_type": "stream",
          "text": [
            "0.9999999621656938\n",
            "-0.31784399371602734\n"
          ],
          "name": "stdout"
        }
      ]
    },
    {
      "cell_type": "code",
      "metadata": {
        "colab": {
          "base_uri": "https://localhost:8080/"
        },
        "id": "UgGzqOCzSVlG",
        "outputId": "4f6d1f4d-b51a-4c7c-fb9c-6da2789b084b"
      },
      "source": [
        "# Loop through a few different max depths and check the performance\n",
        "for d in [3, 5, 10]:\n",
        "    # Create the tree and fit it\n",
        "    decision_tree = DecisionTreeRegressor(max_depth = d)\n",
        "    decision_tree.fit(train_features, train_targets)\n",
        "\n",
        "    # Print out the scores on train and test\n",
        "    print('max_depth=', str(d))\n",
        "    print(decision_tree.score(train_features , train_targets))\n",
        "    print(decision_tree.score(test_features, test_targets), '\\n')"
      ],
      "execution_count": 53,
      "outputs": [
        {
          "output_type": "stream",
          "text": [
            "max_depth= 3\n",
            "0.2251136367261375\n",
            "-0.5069471461447226 \n",
            "\n",
            "max_depth= 5\n",
            "0.3664811921366692\n",
            "-0.15192773096171466 \n",
            "\n",
            "max_depth= 10\n",
            "0.8546575776308554\n",
            "-0.13140987866356446 \n",
            "\n"
          ],
          "name": "stdout"
        }
      ]
    },
    {
      "cell_type": "code",
      "metadata": {
        "colab": {
          "base_uri": "https://localhost:8080/",
          "height": 265
        },
        "id": "MCYA-IVISYdf",
        "outputId": "bac369e6-21dc-443f-a1d1-6a63688ca118"
      },
      "source": [
        "# Use the best max_depth of 3 from last exercise to fit a decision tree\n",
        "decision_tree = DecisionTreeRegressor(max_depth=3)\n",
        "decision_tree.fit(train_features, train_targets)\n",
        "\n",
        "# Predict values for train and test\n",
        "train_predictions = decision_tree.predict(train_features)\n",
        "test_predictions = decision_tree.predict(\n",
        "test_features)\n",
        "# Scatter the predictions vs actual values\n",
        "plt.scatter(train_predictions, train_targets, label='train')\n",
        "plt.scatter(test_predictions, test_targets, label='test')\n",
        "plt.show()"
      ],
      "execution_count": 54,
      "outputs": [
        {
          "output_type": "display_data",
          "data": {
            "image/png": "[encoded data removed]",
            "text/plain": [
              "<Figure size 432x288 with 1 Axes>"
            ]
          },
          "metadata": {
            "tags": [],
            "needs_background": "light"
          }
        }
      ]
    },
    {
      "cell_type": "code",
      "metadata": {
        "colab": {
          "base_uri": "https://localhost:8080/"
        },
        "id": "arixNcosS8bn",
        "outputId": "cf129d45-412b-4ffa-877e-01a9e06421a3"
      },
      "source": [
        "from sklearn.ensemble import RandomForestRegressor\n",
        "\n",
        "# Create the random forest model and fit to the training data\n",
        "rfr = RandomForestRegressor(n_estimators=200)\n",
        "#x, Y\n",
        "rfr.fit(train_features , train_targets)\n",
        "\n",
        "# Look at the R^2 scores on train and test\n",
        "print(rfr.score(train_features, train_targets))\n",
        "print(rfr.score(test_features, test_targets))"
      ],
      "execution_count": 55,
      "outputs": [
        {
          "output_type": "stream",
          "text": [
            "0.8968113607303648\n",
            "-0.22975177816666514\n"
          ],
          "name": "stdout"
        }
      ]
    },
    {
      "cell_type": "code",
      "metadata": {
        "colab": {
          "base_uri": "https://localhost:8080/"
        },
        "id": "eaenoTmlTDzX",
        "outputId": "fa5598c9-7556-4b77-fe00-9aa708e21ca4"
      },
      "source": [
        "from sklearn.model_selection import ParameterGrid\n",
        "\n",
        "# Create a dictionary of hyperparameters to search\n",
        "grid = {'n_estimators' : [200], 'max_depth': [3], 'max_features': [4, 8], 'random_state': [42]}\n",
        "test_scores = []\n",
        "\n",
        "# Loop through the parameter grid, set the hyperparameters, and save the scores\n",
        "for g in ParameterGrid(grid):\n",
        "    rfr.set_params(**g)  # ** is \"unpacking\" the dictionary\n",
        "    rfr.fit(train_features , train_targets)\n",
        "    test_scores.append(rfr.score(test_features, test_targets))\n",
        "\n",
        "# Find best hyperparameters from the test score and print\n",
        "best_idx = np.argmax(test_scores)\n",
        "print(test_scores[best_idx], ParameterGrid(grid)[best_idx])"
      ],
      "execution_count": 56,
      "outputs": [
        {
          "output_type": "stream",
          "text": [
            "-0.08291823253699837 {'random_state': 42, 'n_estimators': 200, 'max_features': 8, 'max_depth': 3}\n"
          ],
          "name": "stdout"
        }
      ]
    },
    {
      "cell_type": "code",
      "metadata": {
        "colab": {
          "base_uri": "https://localhost:8080/",
          "height": 265
        },
        "id": "HRIEv_3eTFbG",
        "outputId": "f5053d6c-bab8-4159-88e5-1c6bd1cd026a"
      },
      "source": [
        "# Use the best hyperparameters from before to fit a random forest model\n",
        "rfr = RandomForestRegressor(n_estimators=200, max_depth=3, max_features=4, random_state=42)\n",
        "rfr.fit(train_features, train_targets)\n",
        "\n",
        "# Make predictions with our model\n",
        "train_predictions = rfr.predict(train_features)\n",
        "test_predictions = rfr.predict(test_features)\n",
        "\n",
        "# Create a scatter plot with train and test actual vs predictions\n",
        "plt.scatter(train_targets, train_predictions, label='train')\n",
        "plt.scatter(test_targets, test_predictions, label='test')\n",
        "plt.legend()\n",
        "plt.show()"
      ],
      "execution_count": 57,
      "outputs": [
        {
          "output_type": "display_data",
          "data": {
            "image/png": "[encoded data removed]",
            "text/plain": [
              "<Figure size 432x288 with 1 Axes>"
            ]
          },
          "metadata": {
            "tags": [],
            "needs_background": "light"
          }
        }
      ]
    },
    {
      "cell_type": "code",
      "metadata": {
        "colab": {
          "base_uri": "https://localhost:8080/",
          "height": 373
        },
        "id": "V_c5slovTJBf",
        "outputId": "9ef0df42-27aa-4141-97be-b4138c84746e"
      },
      "source": [
        "# Get feature importances from our random forest model\n",
        "importances = rfr.feature_importances_\n",
        "\n",
        "# Get the index of importances from greatest importance to least\n",
        "sorted_index = np.argsort(importances)[::-1]\n",
        "x = range(len(importances))\n",
        "\n",
        "# Create tick labels \n",
        "labels = np.array(feature_names)[sorted_index]\n",
        "plt.bar(x, importances[sorted_index], tick_label=labels)\n",
        "\n",
        "# Rotate tick labels to vertical\n",
        "plt.xticks(rotation=90)\n",
        "plt.show()"
      ],
      "execution_count": 58,
      "outputs": [
        {
          "output_type": "display_data",
          "data": {
            "image/png": "[encoded data removed]",
            "text/plain": [
              "<Figure size 432x288 with 1 Axes>"
            ]
          },
          "metadata": {
            "tags": [],
            "needs_background": "light"
          }
        }
      ]
    },
    {
      "cell_type": "code",
      "metadata": {
        "colab": {
          "base_uri": "https://localhost:8080/"
        },
        "id": "2mYYdE9PTOVm",
        "outputId": "223bac70-91d3-4779-900b-1b1d928c3e4f"
      },
      "source": [
        "from sklearn.ensemble import GradientBoostingRegressor\n",
        "\n",
        "# Create GB model -- hyperparameters have already been searched for you\n",
        "gbr = GradientBoostingRegressor(max_features=4,\n",
        "                                learning_rate=0.01,\n",
        "                                n_estimators=200,\n",
        "                                subsample=0.6,\n",
        "                                random_state=42)\n",
        "gbr.fit(train_features, train_targets)\n",
        "\n",
        "print(gbr.score(train_features, train_targets))\n",
        "print(gbr.score(test_features, test_targets))"
      ],
      "execution_count": 59,
      "outputs": [
        {
          "output_type": "stream",
          "text": [
            "0.39600372240712345\n",
            "-0.18465616077017602\n"
          ],
          "name": "stdout"
        }
      ]
    },
    {
      "cell_type": "code",
      "metadata": {
        "colab": {
          "base_uri": "https://localhost:8080/",
          "height": 373
        },
        "id": "c0toCQKjTRXn",
        "outputId": "7772af7c-b76d-49d5-b5bc-bf30b8216a5a"
      },
      "source": [
        "# Extract feature importances from the fitted gradient boosting model\n",
        "feature_importances = gbr.feature_importances_\n",
        "\n",
        "# Get the indices of the largest to smallest feature importances\n",
        "sorted_index = np.argsort(feature_importances)[::-1]\n",
        "x = range(features.shape[1] + 1) # X needs to be identical to the number of features\n",
        "\n",
        "# Create tick labels \n",
        "labels = np.array(feature_names)[sorted_index]\n",
        "\n",
        "plt.bar(x, feature_importances[sorted_index], tick_label=labels)\n",
        "\n",
        "# Set the tick lables to be the feature names, according to the sorted feature_idx\n",
        "plt.xticks(rotation=90)\n",
        "plt.show()"
      ],
      "execution_count": 60,
      "outputs": [
        {
          "output_type": "display_data",
          "data": {
            "image/png": "[encoded data removed]",
            "text/plain": [
              "<Figure size 432x288 with 1 Axes>"
            ]
          },
          "metadata": {
            "tags": [],
            "needs_background": "light"
          }
        }
      ]
    },
    {
      "cell_type": "code",
      "metadata": {
        "id": "bI958AUzUcF4"
      },
      "source": [
        ""
      ],
      "execution_count": 60,
      "outputs": []
    },
    {
      "cell_type": "markdown",
      "metadata": {
        "id": "w2AquNk3UfA_"
      },
      "source": [
        "##4. Neural Network \n",
        "> * Standardizing data\n",
        "> * K-nearest neighbors(KNN)\n",
        "> * Neural networks"
      ]
    },
    {
      "cell_type": "code",
      "metadata": {
        "colab": {
          "base_uri": "https://localhost:8080/",
          "height": 265
        },
        "id": "iIKYEs1nU6mn",
        "outputId": "f9e25ee3-2a4c-46c5-9e18-d20f0f22a046"
      },
      "source": [
        "from sklearn.preprocessing import scale\n",
        "\n",
        "# Remove unimportant features (weekdays)\n",
        "train_features = train_features.iloc[:, :-4]\n",
        "test_features = test_features.iloc[:, :-4]\n",
        "#test_features = train_features?\n",
        "\n",
        "# Standardize the train and test features\n",
        "scaled_train_features = scale(train_features)\n",
        "scaled_test_features = scale(test_features)\n",
        "\n",
        "# Plot histograms of the 14-day SMA RSI before and after scaling\n",
        "f, ax = plt.subplots(nrows=2, ncols=1)\n",
        "train_features.iloc[:, 2].hist(ax=ax[0])\n",
        "ax[1].hist(scaled_train_features[:, 2])\n",
        "plt.show()"
      ],
      "execution_count": 61,
      "outputs": [
        {
          "output_type": "display_data",
          "data": {
            "image/png": "[encoded data removed]",
            "text/plain": [
              "<Figure size 432x288 with 2 Axes>"
            ]
          },
          "metadata": {
            "tags": [],
            "needs_background": "light"
          }
        }
      ]
    },
    {
      "cell_type": "code",
      "metadata": {
        "colab": {
          "base_uri": "https://localhost:8080/"
        },
        "id": "5s3DTgtLWxEe",
        "outputId": "ea60ce29-2a74-4162-d2ee-c698960a6f17"
      },
      "source": [
        "from sklearn.neighbors import KNeighborsRegressor\n",
        "\n",
        "for n in range(2, 13):\n",
        "    # Create and fit the KNN model\n",
        "    knn = KNeighborsRegressor(n_neighbors=n)\n",
        "    \n",
        "    # Fit the model to the training data\n",
        "    knn.fit(scaled_train_features, train_targets)\n",
        "    \n",
        "    # Print number of neighbors and the score to find the best value of n\n",
        "    print(\"n_neighbors =\", n)\n",
        "    print('train, test scores')\n",
        "    print(knn.score(scaled_train_features, train_targets))\n",
        "    print(knn.score(scaled_test_features, test_targets))\n",
        "    print()  # prints a blank line"
      ],
      "execution_count": 62,
      "outputs": [
        {
          "output_type": "stream",
          "text": [
            "n_neighbors = 2\n",
            "train, test scores\n",
            "0.650326374519225\n",
            "-1.5380567656192783\n",
            "\n",
            "n_neighbors = 3\n",
            "train, test scores\n",
            "0.5358489745941589\n",
            "-1.2082009655291674\n",
            "\n",
            "n_neighbors = 4\n",
            "train, test scores\n",
            "0.4532113989420916\n",
            "-1.0653748049100877\n",
            "\n",
            "n_neighbors = 5\n",
            "train, test scores\n",
            "0.38601061749948595\n",
            "-1.0133360833307932\n",
            "\n",
            "n_neighbors = 6\n",
            "train, test scores\n",
            "0.3099553692192427\n",
            "-1.2030299147726917\n",
            "\n",
            "n_neighbors = 7\n",
            "train, test scores\n",
            "0.28185755151027114\n",
            "-1.1032306818620352\n",
            "\n",
            "n_neighbors = 8\n",
            "train, test scores\n",
            "0.27042612082884354\n",
            "-0.9834253044326442\n",
            "\n",
            "n_neighbors = 9\n",
            "train, test scores\n",
            "0.2440504164549553\n",
            "-0.8990833354054366\n",
            "\n",
            "n_neighbors = 10\n",
            "train, test scores\n",
            "0.23018400286149876\n",
            "-0.8578598245551523\n",
            "\n",
            "n_neighbors = 11\n",
            "train, test scores\n",
            "0.22664823356039887\n",
            "-0.7618432274326412\n",
            "\n",
            "n_neighbors = 12\n",
            "train, test scores\n",
            "0.2270806085504382\n",
            "-0.7105723943788018\n",
            "\n"
          ],
          "name": "stdout"
        }
      ]
    },
    {
      "cell_type": "code",
      "metadata": {
        "colab": {
          "base_uri": "https://localhost:8080/",
          "height": 265
        },
        "id": "XJbQhWQ8Wy_H",
        "outputId": "5e44efad-c5dd-4cb5-8cfe-4dc62606370e"
      },
      "source": [
        "# Create the model with the best-performing n_neighbors of 5\n",
        "knn = KNeighborsRegressor(n_neighbors=5)\n",
        "\n",
        "# Fit the model\n",
        "knn.fit(scaled_train_features, train_targets)\n",
        "\n",
        "# Get predictions for train and test sets\n",
        "train_predictions = knn.predict(scaled_train_features)\n",
        "test_predictions = knn.predict(scaled_test_features)\n",
        "\n",
        "# Plot the actual vs predicted values\n",
        "plt.scatter(train_predictions, train_targets, label='train')\n",
        "plt.scatter(test_predictions, test_targets, label='train')\n",
        "plt.legend()\n",
        "plt.show()"
      ],
      "execution_count": 63,
      "outputs": [
        {
          "output_type": "display_data",
          "data": {
            "image/png": "[encoded data removed]",
            "text/plain": [
              "<Figure size 432x288 with 1 Axes>"
            ]
          },
          "metadata": {
            "tags": [],
            "needs_background": "light"
          }
        }
      ]
    },
    {
      "cell_type": "code",
      "metadata": {
        "colab": {
          "base_uri": "https://localhost:8080/"
        },
        "id": "N3P--3XlXKiO",
        "outputId": "0f0e7185-43de-42aa-c123-0c69c1de1a5d"
      },
      "source": [
        "#Build and fit a simple neural net\n",
        "from keras.models import Sequential\n",
        "from keras.layers import Dense\n",
        "\n",
        "# Create the model\n",
        "model_1 = Sequential()\n",
        "model_1.add(Dense(100, input_dim=scaled_train_features.shape[1], activation='relu'))\n",
        "model_1.add(Dense(20, activation='relu'))\n",
        "model_1.add(Dense(1, activation='linear'))\n",
        "\n",
        "# Fit the model\n",
        "model_1.compile(optimizer='adam', loss='mse')\n",
        "history = model_1.fit(scaled_train_features, train_targets, epochs=50)"
      ],
      "execution_count": 66,
      "outputs": [
        {
          "output_type": "stream",
          "text": [
            "Epoch 1/50\n",
            "13/13 [==============================] - 1s 2ms/step - loss: 0.0636\n",
            "Epoch 2/50\n",
            "13/13 [==============================] - 0s 2ms/step - loss: 0.0261\n",
            "Epoch 3/50\n",
            "13/13 [==============================] - 0s 2ms/step - loss: 0.0200\n",
            "Epoch 4/50\n",
            "13/13 [==============================] - 0s 2ms/step - loss: 0.0169\n",
            "Epoch 5/50\n",
            "13/13 [==============================] - 0s 2ms/step - loss: 0.0166\n",
            "Epoch 6/50\n",
            "13/13 [==============================] - 0s 2ms/step - loss: 0.0162\n",
            "Epoch 7/50\n",
            "13/13 [==============================] - 0s 1ms/step - loss: 0.0146\n",
            "Epoch 8/50\n",
            "13/13 [==============================] - 0s 2ms/step - loss: 0.0155\n",
            "Epoch 9/50\n",
            "13/13 [==============================] - 0s 2ms/step - loss: 0.0133\n",
            "Epoch 10/50\n",
            "13/13 [==============================] - 0s 2ms/step - loss: 0.0165\n",
            "Epoch 11/50\n",
            "13/13 [==============================] - 0s 3ms/step - loss: 0.0136\n",
            "Epoch 12/50\n",
            "13/13 [==============================] - 0s 2ms/step - loss: 0.0171\n",
            "Epoch 13/50\n",
            "13/13 [==============================] - 0s 2ms/step - loss: 0.0163\n",
            "Epoch 14/50\n",
            "13/13 [==============================] - 0s 2ms/step - loss: 0.0136\n",
            "Epoch 15/50\n",
            "13/13 [==============================] - 0s 2ms/step - loss: 0.0144\n",
            "Epoch 16/50\n",
            "13/13 [==============================] - 0s 2ms/step - loss: 0.0144\n",
            "Epoch 17/50\n",
            "13/13 [==============================] - 0s 1ms/step - loss: 0.0134\n",
            "Epoch 18/50\n",
            "13/13 [==============================] - 0s 2ms/step - loss: 0.0147\n",
            "Epoch 19/50\n",
            "13/13 [==============================] - 0s 2ms/step - loss: 0.0136\n",
            "Epoch 20/50\n",
            "13/13 [==============================] - 0s 2ms/step - loss: 0.0151\n",
            "Epoch 21/50\n",
            "13/13 [==============================] - 0s 2ms/step - loss: 0.0139\n",
            "Epoch 22/50\n",
            "13/13 [==============================] - 0s 2ms/step - loss: 0.0126\n",
            "Epoch 23/50\n",
            "13/13 [==============================] - 0s 2ms/step - loss: 0.0114\n",
            "Epoch 24/50\n",
            "13/13 [==============================] - 0s 2ms/step - loss: 0.0120\n",
            "Epoch 25/50\n",
            "13/13 [==============================] - 0s 2ms/step - loss: 0.0121\n",
            "Epoch 26/50\n",
            "13/13 [==============================] - 0s 2ms/step - loss: 0.0104\n",
            "Epoch 27/50\n",
            "13/13 [==============================] - 0s 2ms/step - loss: 0.0112\n",
            "Epoch 28/50\n",
            "13/13 [==============================] - 0s 2ms/step - loss: 0.0144\n",
            "Epoch 29/50\n",
            "13/13 [==============================] - 0s 2ms/step - loss: 0.0113\n",
            "Epoch 30/50\n",
            "13/13 [==============================] - 0s 2ms/step - loss: 0.0098\n",
            "Epoch 31/50\n",
            "13/13 [==============================] - 0s 2ms/step - loss: 0.0134\n",
            "Epoch 32/50\n",
            "13/13 [==============================] - 0s 2ms/step - loss: 0.0122\n",
            "Epoch 33/50\n",
            "13/13 [==============================] - 0s 2ms/step - loss: 0.0142\n",
            "Epoch 34/50\n",
            "13/13 [==============================] - 0s 2ms/step - loss: 0.0093\n",
            "Epoch 35/50\n",
            "13/13 [==============================] - 0s 2ms/step - loss: 0.0119\n",
            "Epoch 36/50\n",
            "13/13 [==============================] - 0s 2ms/step - loss: 0.0122\n",
            "Epoch 37/50\n",
            "13/13 [==============================] - 0s 2ms/step - loss: 0.0104\n",
            "Epoch 38/50\n",
            "13/13 [==============================] - 0s 2ms/step - loss: 0.0121\n",
            "Epoch 39/50\n",
            "13/13 [==============================] - 0s 2ms/step - loss: 0.0115\n",
            "Epoch 40/50\n",
            "13/13 [==============================] - 0s 2ms/step - loss: 0.0108\n",
            "Epoch 41/50\n",
            "13/13 [==============================] - 0s 2ms/step - loss: 0.0123\n",
            "Epoch 42/50\n",
            "13/13 [==============================] - 0s 2ms/step - loss: 0.0097\n",
            "Epoch 43/50\n",
            "13/13 [==============================] - 0s 2ms/step - loss: 0.0100\n",
            "Epoch 44/50\n",
            "13/13 [==============================] - 0s 2ms/step - loss: 0.0157\n",
            "Epoch 45/50\n",
            "13/13 [==============================] - 0s 2ms/step - loss: 0.0103\n",
            "Epoch 46/50\n",
            "13/13 [==============================] - 0s 2ms/step - loss: 0.0103\n",
            "Epoch 47/50\n",
            "13/13 [==============================] - 0s 2ms/step - loss: 0.0131\n",
            "Epoch 48/50\n",
            "13/13 [==============================] - 0s 2ms/step - loss: 0.0124\n",
            "Epoch 49/50\n",
            "13/13 [==============================] - 0s 2ms/step - loss: 0.0124\n",
            "Epoch 50/50\n",
            "13/13 [==============================] - 0s 2ms/step - loss: 0.0100\n"
          ],
          "name": "stdout"
        }
      ]
    },
    {
      "cell_type": "code",
      "metadata": {
        "colab": {
          "base_uri": "https://localhost:8080/",
          "height": 281
        },
        "id": "bFR653X7XXmf",
        "outputId": "614739e4-b81e-4a50-b266-3e2d5dad7482"
      },
      "source": [
        "# Plot the losses from the fit\n",
        "plt.plot(history.history['loss'])\n",
        "\n",
        "# Use the last loss as the title\n",
        "plt.title('loss:' + str(round(history.history['loss'][-1], 6)))\n",
        "plt.show()"
      ],
      "execution_count": 67,
      "outputs": [
        {
          "output_type": "display_data",
          "data": {
            "image/png": "[encoded data removed]",
            "text/plain": [
              "<Figure size 432x288 with 1 Axes>"
            ]
          },
          "metadata": {
            "tags": [],
            "needs_background": "light"
          }
        }
      ]
    },
    {
      "cell_type": "code",
      "metadata": {
        "colab": {
          "base_uri": "https://localhost:8080/",
          "height": 299
        },
        "id": "zCINk997XcA-",
        "outputId": "e2227eb6-ad21-44ff-cb40-896301bfd1ff"
      },
      "source": [
        "#Measuring the performance\n",
        "from sklearn.metrics import r2_score\n",
        "\n",
        "# Calculate R^2 score\n",
        "train_preds = model_1.predict(scaled_train_features)\n",
        "test_preds = model_1.predict(scaled_test_features)\n",
        "print(r2_score(train_targets, train_preds))\n",
        "print(r2_score(test_targets, test_preds))\n",
        "\n",
        "# Plot predictions vs actual\n",
        "plt.scatter(train_preds, train_targets, label='train')\n",
        "plt.scatter(test_preds, test_targets, label='test')\n",
        "plt.legend()\n",
        "plt.show()"
      ],
      "execution_count": 68,
      "outputs": [
        {
          "output_type": "stream",
          "text": [
            "0.46715878702968416\n",
            "-1.1346149797232266\n"
          ],
          "name": "stdout"
        },
        {
          "output_type": "display_data",
          "data": {
            "image/png": "[encoded data removed]",
            "text/plain": [
              "<Figure size 432x288 with 1 Axes>"
            ]
          },
          "metadata": {
            "tags": [],
            "needs_background": "light"
          }
        }
      ]
    },
    {
      "cell_type": "code",
      "metadata": {
        "colab": {
          "base_uri": "https://localhost:8080/"
        },
        "id": "QYhple2BXusw",
        "outputId": "3141b948-5c58-482b-eee6-ca14b9580b60"
      },
      "source": [
        "#Custom loss function\n",
        "import keras.losses\n",
        "import tensorflow as tf\n",
        "\n",
        "# Create loss function\n",
        "def sign_penalty(y_true, y_pred):\n",
        "    penalty = 100.\n",
        "    loss = tf.where(tf.less(y_true * y_pred, 0), \\\n",
        "                     penalty * tf.square(y_true - y_pred), \\\n",
        "                     tf.square(y_true - y_pred))\n",
        "\n",
        "    return tf.reduce_mean(loss, axis=-1)\n",
        "\n",
        "keras.losses.sign_penalty = sign_penalty  # enable use of loss with keras\n",
        "print(keras.losses.sign_penalty)"
      ],
      "execution_count": 69,
      "outputs": [
        {
          "output_type": "stream",
          "text": [
            "<function sign_penalty at 0x7feabd61b9e0>\n"
          ],
          "name": "stdout"
        }
      ]
    },
    {
      "cell_type": "code",
      "metadata": {
        "colab": {
          "base_uri": "https://localhost:8080/",
          "height": 1000
        },
        "id": "WP1oi18-Xz6p",
        "outputId": "9a3c21e2-b189-4d9c-e9ab-03b199930479"
      },
      "source": [
        "# Create the model\n",
        "model_2 = Sequential()\n",
        "model_2.add(Dense(100, input_dim=scaled_train_features.shape[1], activation='relu'))\n",
        "model_2.add(Dense(20, activation='relu'))\n",
        "model_2.add(Dense(1, activation='linear'))\n",
        "\n",
        "# Fit the model with our custom 'sign_penalty' loss function\n",
        "model_2.compile(optimizer='adam', loss=sign_penalty)\n",
        "history = model_2.fit(scaled_train_features, train_targets, epochs=50)\n",
        "plt.plot(history.history['loss'])\n",
        "plt.title('loss:' + str(round(history.history['loss'][-1], 6)))\n",
        "plt.show()"
      ],
      "execution_count": 71,
      "outputs": [
        {
          "output_type": "stream",
          "text": [
            "Epoch 1/50\n",
            "13/13 [==============================] - 1s 2ms/step - loss: 7.3938\n",
            "Epoch 2/50\n",
            "13/13 [==============================] - 0s 2ms/step - loss: 1.1711\n",
            "Epoch 3/50\n",
            "13/13 [==============================] - 0s 2ms/step - loss: 1.2226\n",
            "Epoch 4/50\n",
            "13/13 [==============================] - 0s 2ms/step - loss: 0.9866\n",
            "Epoch 5/50\n",
            "13/13 [==============================] - 0s 2ms/step - loss: 0.7316\n",
            "Epoch 6/50\n",
            "13/13 [==============================] - 0s 2ms/step - loss: 0.5451\n",
            "Epoch 7/50\n",
            "13/13 [==============================] - 0s 3ms/step - loss: 0.6691\n",
            "Epoch 8/50\n",
            "13/13 [==============================] - 0s 2ms/step - loss: 0.4917\n",
            "Epoch 9/50\n",
            "13/13 [==============================] - 0s 2ms/step - loss: 0.3891\n",
            "Epoch 10/50\n",
            "13/13 [==============================] - 0s 2ms/step - loss: 0.3239\n",
            "Epoch 11/50\n",
            "13/13 [==============================] - 0s 2ms/step - loss: 0.4759\n",
            "Epoch 12/50\n",
            "13/13 [==============================] - 0s 2ms/step - loss: 0.3584\n",
            "Epoch 13/50\n",
            "13/13 [==============================] - 0s 2ms/step - loss: 0.3523\n",
            "Epoch 14/50\n",
            "13/13 [==============================] - 0s 2ms/step - loss: 0.3447\n",
            "Epoch 15/50\n",
            "13/13 [==============================] - 0s 2ms/step - loss: 0.3154\n",
            "Epoch 16/50\n",
            "13/13 [==============================] - 0s 2ms/step - loss: 0.4534\n",
            "Epoch 17/50\n",
            "13/13 [==============================] - 0s 2ms/step - loss: 0.3224\n",
            "Epoch 18/50\n",
            "13/13 [==============================] - 0s 2ms/step - loss: 0.4377\n",
            "Epoch 19/50\n",
            "13/13 [==============================] - 0s 2ms/step - loss: 0.2577\n",
            "Epoch 20/50\n",
            "13/13 [==============================] - 0s 2ms/step - loss: 0.2507\n",
            "Epoch 21/50\n",
            "13/13 [==============================] - 0s 2ms/step - loss: 0.3840\n",
            "Epoch 22/50\n",
            "13/13 [==============================] - 0s 2ms/step - loss: 0.2403\n",
            "Epoch 23/50\n",
            "13/13 [==============================] - 0s 2ms/step - loss: 0.3626\n",
            "Epoch 24/50\n",
            "13/13 [==============================] - 0s 2ms/step - loss: 0.2238\n",
            "Epoch 25/50\n",
            "13/13 [==============================] - 0s 2ms/step - loss: 0.2967\n",
            "Epoch 26/50\n",
            "13/13 [==============================] - 0s 2ms/step - loss: 0.2759\n",
            "Epoch 27/50\n",
            "13/13 [==============================] - 0s 2ms/step - loss: 0.3633\n",
            "Epoch 28/50\n",
            "13/13 [==============================] - 0s 2ms/step - loss: 0.2725\n",
            "Epoch 29/50\n",
            "13/13 [==============================] - 0s 2ms/step - loss: 0.5908\n",
            "Epoch 30/50\n",
            "13/13 [==============================] - 0s 2ms/step - loss: 0.1449\n",
            "Epoch 31/50\n",
            "13/13 [==============================] - 0s 2ms/step - loss: 0.2293\n",
            "Epoch 32/50\n",
            "13/13 [==============================] - 0s 2ms/step - loss: 0.2122\n",
            "Epoch 33/50\n",
            "13/13 [==============================] - 0s 2ms/step - loss: 0.3876\n",
            "Epoch 34/50\n",
            "13/13 [==============================] - 0s 2ms/step - loss: 0.1608\n",
            "Epoch 35/50\n",
            "13/13 [==============================] - 0s 2ms/step - loss: 0.2190\n",
            "Epoch 36/50\n",
            "13/13 [==============================] - 0s 2ms/step - loss: 0.4193\n",
            "Epoch 37/50\n",
            "13/13 [==============================] - 0s 2ms/step - loss: 0.2611\n",
            "Epoch 38/50\n",
            "13/13 [==============================] - 0s 2ms/step - loss: 0.2198\n",
            "Epoch 39/50\n",
            "13/13 [==============================] - 0s 2ms/step - loss: 0.1353\n",
            "Epoch 40/50\n",
            "13/13 [==============================] - 0s 2ms/step - loss: 0.1738\n",
            "Epoch 41/50\n",
            "13/13 [==============================] - 0s 3ms/step - loss: 0.2883\n",
            "Epoch 42/50\n",
            "13/13 [==============================] - 0s 2ms/step - loss: 0.2425\n",
            "Epoch 43/50\n",
            "13/13 [==============================] - 0s 2ms/step - loss: 0.1378\n",
            "Epoch 44/50\n",
            "13/13 [==============================] - 0s 2ms/step - loss: 0.2265\n",
            "Epoch 45/50\n",
            "13/13 [==============================] - 0s 2ms/step - loss: 0.1391\n",
            "Epoch 46/50\n",
            "13/13 [==============================] - 0s 2ms/step - loss: 0.2846\n",
            "Epoch 47/50\n",
            "13/13 [==============================] - 0s 2ms/step - loss: 0.1982\n",
            "Epoch 48/50\n",
            "13/13 [==============================] - 0s 2ms/step - loss: 0.1746\n",
            "Epoch 49/50\n",
            "13/13 [==============================] - 0s 2ms/step - loss: 0.2468\n",
            "Epoch 50/50\n",
            "13/13 [==============================] - 0s 2ms/step - loss: 0.4185\n"
          ],
          "name": "stdout"
        },
        {
          "output_type": "display_data",
          "data": {
            "image/png": "[encoded data removed]",
            "text/plain": [
              "<Figure size 432x288 with 1 Axes>"
            ]
          },
          "metadata": {
            "tags": [],
            "needs_background": "light"
          }
        }
      ]
    },
    {
      "cell_type": "code",
      "metadata": {
        "colab": {
          "base_uri": "https://localhost:8080/",
          "height": 299
        },
        "id": "XcJBp3bXYKpw",
        "outputId": "d81ea7f6-655d-4f62-e257-6120549be6fc"
      },
      "source": [
        "# Evaluate R^2 scores\n",
        "train_preds = model_2.predict(scaled_train_features)\n",
        "test_preds = model_2.predict(scaled_test_features)\n",
        "print(r2_score(train_targets, train_preds))\n",
        "print(r2_score(test_targets, test_preds))\n",
        "\n",
        "# Scatter the predictions vs actual -- this one is interesting!\n",
        "plt.scatter(train_preds, train_targets, label='train')\n",
        "plt.scatter(test_preds, test_targets, label='test')  # plot test set\n",
        "plt.legend(); plt.show()"
      ],
      "execution_count": 72,
      "outputs": [
        {
          "output_type": "stream",
          "text": [
            "0.022194633825030174\n",
            "-0.00394521534658554\n"
          ],
          "name": "stdout"
        },
        {
          "output_type": "display_data",
          "data": {
            "image/png": "[encoded data removed]",
            "text/plain": [
              "<Figure size 432x288 with 1 Axes>"
            ]
          },
          "metadata": {
            "tags": [],
            "needs_background": "light"
          }
        }
      ]
    },
    {
      "cell_type": "code",
      "metadata": {
        "colab": {
          "base_uri": "https://localhost:8080/",
          "height": 1000
        },
        "id": "M7TxEdIRYOM4",
        "outputId": "97ed6cb2-74f7-4265-89f1-24cbc31677c8"
      },
      "source": [
        "from keras.layers import Dropout\n",
        "\n",
        "# Create model with dropout\n",
        "model_3 = Sequential()\n",
        "model_3.add(Dense(100, input_dim=scaled_train_features.shape[1], activation='relu'))\n",
        "model_3.add(Dropout(0.2))\n",
        "model_3.add(Dense(20, activation='relu'))\n",
        "model_3.add(Dense(1, activation='linear'))\n",
        "\n",
        "# Fit model with mean squared error loss function\n",
        "model_3.compile(optimizer='adam', loss='mse')\n",
        "history = model_3.fit(scaled_train_features, train_targets, epochs=50)\n",
        "plt.plot(history.history['loss'])\n",
        "plt.title('loss:' + str(round(history.history['loss'][-1], 6)))\n",
        "plt.show()"
      ],
      "execution_count": 73,
      "outputs": [
        {
          "output_type": "stream",
          "text": [
            "Epoch 1/50\n",
            "13/13 [==============================] - 1s 2ms/step - loss: 0.0631\n",
            "Epoch 2/50\n",
            "13/13 [==============================] - 0s 2ms/step - loss: 0.0316\n",
            "Epoch 3/50\n",
            "13/13 [==============================] - 0s 2ms/step - loss: 0.0220\n",
            "Epoch 4/50\n",
            "13/13 [==============================] - 0s 2ms/step - loss: 0.0187\n",
            "Epoch 5/50\n",
            "13/13 [==============================] - 0s 2ms/step - loss: 0.0211\n",
            "Epoch 6/50\n",
            "13/13 [==============================] - 0s 2ms/step - loss: 0.0242\n",
            "Epoch 7/50\n",
            "13/13 [==============================] - 0s 2ms/step - loss: 0.0258\n",
            "Epoch 8/50\n",
            "13/13 [==============================] - 0s 2ms/step - loss: 0.0176\n",
            "Epoch 9/50\n",
            "13/13 [==============================] - 0s 2ms/step - loss: 0.0195\n",
            "Epoch 10/50\n",
            "13/13 [==============================] - 0s 2ms/step - loss: 0.0174\n",
            "Epoch 11/50\n",
            "13/13 [==============================] - 0s 2ms/step - loss: 0.0156\n",
            "Epoch 12/50\n",
            "13/13 [==============================] - 0s 2ms/step - loss: 0.0221\n",
            "Epoch 13/50\n",
            "13/13 [==============================] - 0s 2ms/step - loss: 0.0176\n",
            "Epoch 14/50\n",
            "13/13 [==============================] - 0s 2ms/step - loss: 0.0161\n",
            "Epoch 15/50\n",
            "13/13 [==============================] - 0s 2ms/step - loss: 0.0151\n",
            "Epoch 16/50\n",
            "13/13 [==============================] - 0s 2ms/step - loss: 0.0205\n",
            "Epoch 17/50\n",
            "13/13 [==============================] - 0s 2ms/step - loss: 0.0161\n",
            "Epoch 18/50\n",
            "13/13 [==============================] - 0s 2ms/step - loss: 0.0171\n",
            "Epoch 19/50\n",
            "13/13 [==============================] - 0s 2ms/step - loss: 0.0166\n",
            "Epoch 20/50\n",
            "13/13 [==============================] - 0s 3ms/step - loss: 0.0154\n",
            "Epoch 21/50\n",
            "13/13 [==============================] - 0s 2ms/step - loss: 0.0147\n",
            "Epoch 22/50\n",
            "13/13 [==============================] - 0s 2ms/step - loss: 0.0190\n",
            "Epoch 23/50\n",
            "13/13 [==============================] - 0s 2ms/step - loss: 0.0179\n",
            "Epoch 24/50\n",
            "13/13 [==============================] - 0s 2ms/step - loss: 0.0173\n",
            "Epoch 25/50\n",
            "13/13 [==============================] - 0s 2ms/step - loss: 0.0146\n",
            "Epoch 26/50\n",
            "13/13 [==============================] - 0s 2ms/step - loss: 0.0174\n",
            "Epoch 27/50\n",
            "13/13 [==============================] - 0s 2ms/step - loss: 0.0170\n",
            "Epoch 28/50\n",
            "13/13 [==============================] - 0s 2ms/step - loss: 0.0133\n",
            "Epoch 29/50\n",
            "13/13 [==============================] - 0s 2ms/step - loss: 0.0150\n",
            "Epoch 30/50\n",
            "13/13 [==============================] - 0s 2ms/step - loss: 0.0182\n",
            "Epoch 31/50\n",
            "13/13 [==============================] - 0s 1ms/step - loss: 0.0138\n",
            "Epoch 32/50\n",
            "13/13 [==============================] - 0s 2ms/step - loss: 0.0147\n",
            "Epoch 33/50\n",
            "13/13 [==============================] - 0s 2ms/step - loss: 0.0133\n",
            "Epoch 34/50\n",
            "13/13 [==============================] - 0s 2ms/step - loss: 0.0168\n",
            "Epoch 35/50\n",
            "13/13 [==============================] - 0s 2ms/step - loss: 0.0155\n",
            "Epoch 36/50\n",
            "13/13 [==============================] - 0s 2ms/step - loss: 0.0158\n",
            "Epoch 37/50\n",
            "13/13 [==============================] - 0s 2ms/step - loss: 0.0147\n",
            "Epoch 38/50\n",
            "13/13 [==============================] - 0s 2ms/step - loss: 0.0141\n",
            "Epoch 39/50\n",
            "13/13 [==============================] - 0s 2ms/step - loss: 0.0165\n",
            "Epoch 40/50\n",
            "13/13 [==============================] - 0s 2ms/step - loss: 0.0175\n",
            "Epoch 41/50\n",
            "13/13 [==============================] - 0s 2ms/step - loss: 0.0158\n",
            "Epoch 42/50\n",
            "13/13 [==============================] - 0s 2ms/step - loss: 0.0154\n",
            "Epoch 43/50\n",
            "13/13 [==============================] - 0s 2ms/step - loss: 0.0135\n",
            "Epoch 44/50\n",
            "13/13 [==============================] - 0s 2ms/step - loss: 0.0187\n",
            "Epoch 45/50\n",
            "13/13 [==============================] - 0s 2ms/step - loss: 0.0157\n",
            "Epoch 46/50\n",
            "13/13 [==============================] - 0s 2ms/step - loss: 0.0150\n",
            "Epoch 47/50\n",
            "13/13 [==============================] - 0s 2ms/step - loss: 0.0144\n",
            "Epoch 48/50\n",
            "13/13 [==============================] - 0s 2ms/step - loss: 0.0168\n",
            "Epoch 49/50\n",
            "13/13 [==============================] - 0s 2ms/step - loss: 0.0166\n",
            "Epoch 50/50\n",
            "13/13 [==============================] - 0s 2ms/step - loss: 0.0155\n"
          ],
          "name": "stdout"
        },
        {
          "output_type": "display_data",
          "data": {
            "image/png": "[encoded data removed]",
            "text/plain": [
              "<Figure size 432x288 with 1 Axes>"
            ]
          },
          "metadata": {
            "tags": [],
            "needs_background": "light"
          }
        }
      ]
    },
    {
      "cell_type": "code",
      "metadata": {
        "colab": {
          "base_uri": "https://localhost:8080/"
        },
        "id": "kAjRKOVdYWiQ",
        "outputId": "3fc95cf6-d5d5-455f-9cea-22a8fcf87546"
      },
      "source": [
        "# Make predictions from the 3 neural net models - Ensemble models\n",
        "train_pred1 = model_1.predict(scaled_train_features)\n",
        "test_pred1 = model_1.predict(scaled_test_features)\n",
        "\n",
        "train_pred2 = model_2.predict(scaled_train_features)\n",
        "test_pred2 = model_2.predict(scaled_test_features)\n",
        "\n",
        "train_pred3 = model_3.predict(scaled_train_features)\n",
        "test_pred3 = model_3.predict(scaled_test_features)\n",
        "\n",
        "# Horizontally stack predictions and take the average across rows\n",
        "train_preds = np.mean(np.hstack((train_pred1, train_pred2, train_pred3)), axis=1)\n",
        "test_preds = np.mean(np.hstack((test_pred1, test_pred2, test_pred3)), axis=1)\n",
        "print(test_preds[-5:])"
      ],
      "execution_count": 74,
      "outputs": [
        {
          "output_type": "stream",
          "text": [
            "[0.02115302 0.04967414 0.05017693 0.04244165 0.0353512 ]\n"
          ],
          "name": "stdout"
        }
      ]
    },
    {
      "cell_type": "code",
      "metadata": {
        "colab": {
          "base_uri": "https://localhost:8080/",
          "height": 299
        },
        "id": "ATPfttePYd9B",
        "outputId": "ae624783-2b66-49f2-84e5-5e122c0b2895"
      },
      "source": [
        "#The performance of the ensemble model\n",
        "from sklearn.metrics import r2_score\n",
        "\n",
        "# Evaluate the R^2 scores\n",
        "print(r2_score(train_targets, train_preds))\n",
        "print(r2_score(test_targets, test_preds))\n",
        "\n",
        "# Scatter the predictions vs actual -- this one is interesting!\n",
        "plt.scatter(train_preds, train_targets, label='train')\n",
        "plt.scatter(test_preds, test_targets, label='test')\n",
        "plt.legend(); plt.show()"
      ],
      "execution_count": 75,
      "outputs": [
        {
          "output_type": "stream",
          "text": [
            "0.3246864556988288\n",
            "-0.4211453450808744\n"
          ],
          "name": "stdout"
        },
        {
          "output_type": "display_data",
          "data": {
            "image/png": "[encoded data removed]",
            "text/plain": [
              "<Figure size 432x288 with 1 Axes>"
            ]
          },
          "metadata": {
            "tags": [],
            "needs_background": "light"
          }
        }
      ]
    }
  ]
}